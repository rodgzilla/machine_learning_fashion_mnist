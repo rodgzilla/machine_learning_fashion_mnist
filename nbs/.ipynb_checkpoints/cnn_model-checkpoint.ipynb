{
 "cells": [
  {
   "cell_type": "code",
   "execution_count": 1,
   "metadata": {},
   "outputs": [
    {
     "name": "stderr",
     "output_type": "stream",
     "text": [
      "Using TensorFlow backend.\n"
     ]
    }
   ],
   "source": [
    "%matplotlib inline\n",
    "import keras\n",
    "\n",
    "import matplotlib.pyplot as plt\n",
    "\n",
    "from keras.models         import Sequential\n",
    "from keras.layers         import Dense\n",
    "from keras.optimizers     import Adam\n",
    "from keras.utils.np_utils import to_categorical\n",
    "\n",
    "path_to_fashion_mnist = '../../datasets/fashion-mnist/'\n",
    "\n",
    "import sys\n",
    "sys.path.insert(0, path_to_fashion_mnist)\n",
    "from utils import mnist_reader"
   ]
  },
  {
   "cell_type": "code",
   "execution_count": 2,
   "metadata": {
    "collapsed": true
   },
   "outputs": [],
   "source": [
    "batch_size = 32"
   ]
  },
  {
   "cell_type": "code",
   "execution_count": 3,
   "metadata": {
    "collapsed": true
   },
   "outputs": [],
   "source": [
    "X_train, y_train = mnist_reader.load_mnist(path_to_fashion_mnist + 'data/fashion', kind = 'train')\n",
    "X_test, y_test   = mnist_reader.load_mnist(path_to_fashion_mnist + 'data/fashion', kind = 'train')\n",
    "y_train          = to_categorical(y_train)\n",
    "y_test           = to_categorical(y_test)"
   ]
  },
  {
   "cell_type": "code",
   "execution_count": 4,
   "metadata": {},
   "outputs": [
    {
     "data": {
      "text/plain": [
       "<matplotlib.image.AxesImage at 0x7f361ff7bba8>"
      ]
     },
     "execution_count": 4,
     "metadata": {},
     "output_type": "execute_result"
    },
    {
     "data": {
      "image/png": "[encoded data removed]",
      "text/plain": [
       "<matplotlib.figure.Figure at 0x7f3620913c50>"
      ]
     },
     "metadata": {},
     "output_type": "display_data"
    }
   ],
   "source": [
    "plt.imshow(1 - X_train[0].reshape(28, 28), cmap = 'gray')"
   ]
  },
  {
   "cell_type": "code",
   "execution_count": 5,
   "metadata": {},
   "outputs": [
    {
     "data": {
      "text/plain": [
       "<matplotlib.image.AxesImage at 0x7f361de69550>"
      ]
     },
     "execution_count": 5,
     "metadata": {},
     "output_type": "execute_result"
    },
    {
     "data": {
      "image/png": "[encoded data removed]",
      "text/plain": [
       "<matplotlib.figure.Figure at 0x7f36209404a8>"
      ]
     },
     "metadata": {},
     "output_type": "display_data"
    }
   ],
   "source": [
    "plt.imshow(1 - X_train[1].reshape(28, 28), cmap = 'gray')"
   ]
  },
  {
   "cell_type": "code",
   "execution_count": 6,
   "metadata": {
    "collapsed": true
   },
   "outputs": [],
   "source": [
    "model = Sequential([\n",
    "    Dense(128, input_shape = (784,), activation = 'relu'),\n",
    "    Dense(128, activation = 'relu'),\n",
    "    Dense(128, activation = 'relu'),\n",
    "    Dense(10,  activation = 'softmax')\n",
    "])\n",
    "model.compile(Adam(1e-4), loss = 'categorical_crossentropy', metrics = ['accuracy'])"
   ]
  },
  {
   "cell_type": "code",
   "execution_count": 7,
   "metadata": {
    "collapsed": true
   },
   "outputs": [],
   "source": [
    "fit_params = {\n",
    "    'x'              : X_train,\n",
    "    'y'              : y_train,\n",
    "    'epochs'         : 20,\n",
    "    'batch_size'     : batch_size,\n",
    "    'validation_data': (X_test, y_test)\n",
    "}"
   ]
  },
  {
   "cell_type": "code",
   "execution_count": 8,
   "metadata": {},
   "outputs": [
    {
     "name": "stdout",
     "output_type": "stream",
     "text": [
      "Train on 60000 samples, validate on 60000 samples\n",
      "Epoch 1/20\n",
      "60000/60000 [==============================] - 9s - loss: 8.5247 - acc: 0.4563 - val_loss: 5.9448 - val_acc: 0.6151\n",
      "Epoch 2/20\n",
      "60000/60000 [==============================] - 8s - loss: 4.6882 - acc: 0.6857 - val_loss: 4.3822 - val_acc: 0.7027\n",
      "Epoch 3/20\n",
      "60000/60000 [==============================] - 8s - loss: 3.6587 - acc: 0.7179 - val_loss: 2.9135 - val_acc: 0.7297\n",
      "Epoch 4/20\n",
      "60000/60000 [==============================] - 9s - loss: 1.1595 - acc: 0.7951 - val_loss: 0.7140 - val_acc: 0.8262\n",
      "Epoch 5/20\n",
      "60000/60000 [==============================] - 8s - loss: 0.6544 - acc: 0.8211 - val_loss: 0.5590 - val_acc: 0.8352\n",
      "Epoch 6/20\n",
      "60000/60000 [==============================] - 9s - loss: 0.5330 - acc: 0.8358 - val_loss: 0.4667 - val_acc: 0.8478\n",
      "Epoch 7/20\n",
      "60000/60000 [==============================] - 8s - loss: 0.4652 - acc: 0.8489 - val_loss: 0.4232 - val_acc: 0.8577\n",
      "Epoch 8/20\n",
      "60000/60000 [==============================] - 8s - loss: 0.4168 - acc: 0.8613 - val_loss: 0.3718 - val_acc: 0.8740\n",
      "Epoch 9/20\n",
      "60000/60000 [==============================] - 8s - loss: 0.3875 - acc: 0.8682 - val_loss: 0.3700 - val_acc: 0.8706\n",
      "Epoch 10/20\n",
      "60000/60000 [==============================] - 8s - loss: 0.3562 - acc: 0.8746 - val_loss: 0.3233 - val_acc: 0.8874\n",
      "Epoch 11/20\n",
      "60000/60000 [==============================] - 8s - loss: 0.3358 - acc: 0.8809 - val_loss: 0.3270 - val_acc: 0.8815\n",
      "Epoch 12/20\n",
      "60000/60000 [==============================] - 9s - loss: 0.3208 - acc: 0.8861 - val_loss: 0.2962 - val_acc: 0.8931\n",
      "Epoch 13/20\n",
      "60000/60000 [==============================] - 8s - loss: 0.3037 - acc: 0.8906 - val_loss: 0.2747 - val_acc: 0.8989\n",
      "Epoch 14/20\n",
      "60000/60000 [==============================] - 8s - loss: 0.2909 - acc: 0.8943 - val_loss: 0.2607 - val_acc: 0.9042\n",
      "Epoch 15/20\n",
      "60000/60000 [==============================] - 8s - loss: 0.2779 - acc: 0.8996 - val_loss: 0.2547 - val_acc: 0.9057\n",
      "Epoch 16/20\n",
      "60000/60000 [==============================] - 9s - loss: 0.2683 - acc: 0.9012 - val_loss: 0.2480 - val_acc: 0.9086\n",
      "Epoch 17/20\n",
      "60000/60000 [==============================] - 8s - loss: 0.2602 - acc: 0.9048 - val_loss: 0.2375 - val_acc: 0.9117\n",
      "Epoch 18/20\n",
      "60000/60000 [==============================] - 8s - loss: 0.2512 - acc: 0.9086 - val_loss: 0.2356 - val_acc: 0.9125\n",
      "Epoch 19/20\n",
      "60000/60000 [==============================] - 7s - loss: 0.2426 - acc: 0.9097 - val_loss: 0.2215 - val_acc: 0.9166\n",
      "Epoch 20/20\n",
      "60000/60000 [==============================] - 9s - loss: 0.2355 - acc: 0.9117 - val_loss: 0.2385 - val_acc: 0.9099\n"
     ]
    },
    {
     "data": {
      "text/plain": [
       "<keras.callbacks.History at 0x7f3614a21908>"
      ]
     },
     "execution_count": 8,
     "metadata": {},
     "output_type": "execute_result"
    }
   ],
   "source": [
    "model.fit(**fit_params)"
   ]
  }
 ],
 "metadata": {
  "kernelspec": {
   "display_name": "Python 3",
   "language": "python",
   "name": "python3"
  },
  "language_info": {
   "codemirror_mode": {
    "name": "ipython",
    "version": 3
   },
   "file_extension": ".py",
   "mimetype": "text/x-python",
   "name": "python",
   "nbconvert_exporter": "python",
   "pygments_lexer": "ipython3",
   "version": "3.6.1"
  }
 },
 "nbformat": 4,
 "nbformat_minor": 2
}
