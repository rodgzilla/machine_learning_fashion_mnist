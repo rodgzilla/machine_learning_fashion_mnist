{
 "cells": [
  {
   "cell_type": "code",
   "execution_count": 1,
   "metadata": {},
   "outputs": [
    {
     "name": "stderr",
     "output_type": "stream",
     "text": [
      "Using TensorFlow backend.\n"
     ]
    }
   ],
   "source": [
    "import keras\n",
    "\n",
    "from keras.models         import Sequential\n",
    "from keras.layers         import Dense\n",
    "from keras.optimizers     import Adam\n",
    "from keras.utils.np_utils import to_categorical\n",
    "\n",
    "path_to_fashion_mnist = '../../datasets/fashion-mnist/'\n",
    "\n",
    "import sys\n",
    "sys.path.insert(0, path_to_fashion_mnist)\n",
    "from utils import mnist_reader"
   ]
  },
  {
   "cell_type": "code",
   "execution_count": 2,
   "metadata": {
    "collapsed": true
   },
   "outputs": [],
   "source": [
    "batch_size = 32"
   ]
  },
  {
   "cell_type": "code",
   "execution_count": 3,
   "metadata": {},
   "outputs": [],
   "source": [
    "X_train, y_train = mnist_reader.load_mnist(path_to_fashion_mnist + 'data/fashion', kind = 'train')\n",
    "X_test, y_test   = mnist_reader.load_mnist(path_to_fashion_mnist + 'data/fashion', kind = 'train')\n",
    "y_train          = to_categorical(y_train)\n",
    "y_test           = to_categorical(y_test)"
   ]
  },
  {
   "cell_type": "code",
   "execution_count": 4,
   "metadata": {},
   "outputs": [],
   "source": [
    "model = Sequential([\n",
    "    Dense(128, input_shape = (784,), activation = 'relu'),\n",
    "    Dense(128, input_shape = (784,), activation = 'relu'),\n",
    "    Dense(128, input_shape = (784,), activation = 'relu'),\n",
    "    Dense(10, activation = 'softmax')\n",
    "])\n",
    "model.compile(Adam(1e-4), loss = 'categorical_crossentropy', metrics = ['accuracy'])"
   ]
  },
  {
   "cell_type": "code",
   "execution_count": 5,
   "metadata": {},
   "outputs": [],
   "source": [
    "fit_params = {\n",
    "    'x'              : X_train,\n",
    "    'y'              : y_train,\n",
    "    'epochs'         : 20,\n",
    "    'batch_size'     : batch_size,\n",
    "    'validation_data': (X_test, y_test)\n",
    "}"
   ]
  },
  {
   "cell_type": "code",
   "execution_count": 6,
   "metadata": {},
   "outputs": [
    {
     "name": "stdout",
     "output_type": "stream",
     "text": [
      "Train on 60000 samples, validate on 60000 samples\n",
      "Epoch 1/20\n",
      "60000/60000 [==============================] - 9s - loss: 8.2430 - acc: 0.4749 - val_loss: 7.2313 - val_acc: 0.5373\n",
      "Epoch 2/20\n",
      "60000/60000 [==============================] - 9s - loss: 5.0812 - acc: 0.6605 - val_loss: 4.4453 - val_acc: 0.6958\n",
      "Epoch 3/20\n",
      "60000/60000 [==============================] - 7s - loss: 4.3367 - acc: 0.6892 - val_loss: 3.9548 - val_acc: 0.6916\n",
      "Epoch 4/20\n",
      "60000/60000 [==============================] - 8s - loss: 3.8667 - acc: 0.6879 - val_loss: 3.6889 - val_acc: 0.6970\n",
      "Epoch 5/20\n",
      "60000/60000 [==============================] - 8s - loss: 2.1159 - acc: 0.7446 - val_loss: 0.6493 - val_acc: 0.8079\n",
      "Epoch 6/20\n",
      "60000/60000 [==============================] - 8s - loss: 0.5908 - acc: 0.8191 - val_loss: 0.4968 - val_acc: 0.8374\n",
      "Epoch 7/20\n",
      "60000/60000 [==============================] - 8s - loss: 0.4823 - acc: 0.8405 - val_loss: 0.4304 - val_acc: 0.8538\n",
      "Epoch 8/20\n",
      "60000/60000 [==============================] - 8s - loss: 0.4333 - acc: 0.8523 - val_loss: 0.4028 - val_acc: 0.8617\n",
      "Epoch 9/20\n",
      "60000/60000 [==============================] - 8s - loss: 0.3961 - acc: 0.8616 - val_loss: 0.3650 - val_acc: 0.8689\n",
      "Epoch 10/20\n",
      "60000/60000 [==============================] - 8s - loss: 0.3689 - acc: 0.8701 - val_loss: 0.3311 - val_acc: 0.8810\n",
      "Epoch 11/20\n",
      "60000/60000 [==============================] - 8s - loss: 0.3478 - acc: 0.8750 - val_loss: 0.3284 - val_acc: 0.8823\n",
      "Epoch 12/20\n",
      "60000/60000 [==============================] - 8s - loss: 0.3282 - acc: 0.8832 - val_loss: 0.2946 - val_acc: 0.8919\n",
      "Epoch 13/20\n",
      "60000/60000 [==============================] - 8s - loss: 0.3132 - acc: 0.8859 - val_loss: 0.2779 - val_acc: 0.8977\n",
      "Epoch 14/20\n",
      "60000/60000 [==============================] - 7s - loss: 0.2976 - acc: 0.8903 - val_loss: 0.2766 - val_acc: 0.8980\n",
      "Epoch 15/20\n",
      "60000/60000 [==============================] - 8s - loss: 0.2879 - acc: 0.8933 - val_loss: 0.2715 - val_acc: 0.9005\n",
      "Epoch 16/20\n",
      "60000/60000 [==============================] - 8s - loss: 0.2752 - acc: 0.8989 - val_loss: 0.2497 - val_acc: 0.9079\n",
      "Epoch 17/20\n",
      "60000/60000 [==============================] - 7s - loss: 0.2690 - acc: 0.9013 - val_loss: 0.2627 - val_acc: 0.9030\n",
      "Epoch 18/20\n",
      "60000/60000 [==============================] - 8s - loss: 0.2576 - acc: 0.9047 - val_loss: 0.2420 - val_acc: 0.9111\n",
      "Epoch 19/20\n",
      "60000/60000 [==============================] - 7s - loss: 0.2521 - acc: 0.9052 - val_loss: 0.2394 - val_acc: 0.9113\n",
      "Epoch 20/20\n",
      "60000/60000 [==============================] - 8s - loss: 0.2435 - acc: 0.9098 - val_loss: 0.2344 - val_acc: 0.9116\n"
     ]
    },
    {
     "data": {
      "text/plain": [
       "<keras.callbacks.History at 0x7f33853f8048>"
      ]
     },
     "execution_count": 6,
     "metadata": {},
     "output_type": "execute_result"
    }
   ],
   "source": [
    "model.fit(**fit_params)"
   ]
  }
 ],
 "metadata": {
  "kernelspec": {
   "display_name": "Python 3",
   "language": "python",
   "name": "python3"
  },
  "language_info": {
   "codemirror_mode": {
    "name": "ipython",
    "version": 3
   },
   "file_extension": ".py",
   "mimetype": "text/x-python",
   "name": "python",
   "nbconvert_exporter": "python",
   "pygments_lexer": "ipython3",
   "version": "3.6.1"
  }
 },
 "nbformat": 4,
 "nbformat_minor": 2
}
